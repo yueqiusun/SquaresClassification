{
 "cells": [
  {
   "cell_type": "markdown",
   "id": "8ddcd8b1",
   "metadata": {},
   "source": [
    "# Squares classification "
   ]
  },
  {
   "cell_type": "markdown",
   "id": "927941a1",
   "metadata": {},
   "source": [
    "Predict the image classes. "
   ]
  },
  {
   "cell_type": "code",
   "execution_count": 1,
   "id": "27471b52",
   "metadata": {
    "collapsed": true,
    "jupyter": {
     "outputs_hidden": true
    }
   },
   "outputs": [
    {
     "name": "stdout",
     "output_type": "stream",
     "text": [
      "2.5.0\n"
     ]
    },
    {
     "name": "stderr",
     "output_type": "stream",
     "text": [
      "\u001b[34m\u001b[1mwandb\u001b[0m: Currently logged in as: \u001b[33myueqiu\u001b[0m (use `wandb login --relogin` to force relogin)\n"
     ]
    },
    {
     "data": {
      "text/html": [
       "\n",
       "                Tracking run with wandb version 0.12.0<br/>\n",
       "                Syncing run <strong style=\"color:#cdcd00\">laced-dew-12</strong> to <a href=\"https://wandb.ai\" target=\"_blank\">Weights & Biases</a> <a href=\"https://docs.wandb.com/integrations/jupyter.html\" target=\"_blank\">(Documentation)</a>.<br/>\n",
       "                Project page: <a href=\"https://wandb.ai/yueqiu/Square%20Classification\" target=\"_blank\">https://wandb.ai/yueqiu/Square%20Classification</a><br/>\n",
       "                Run page: <a href=\"https://wandb.ai/yueqiu/Square%20Classification/runs/2xzef7u0\" target=\"_blank\">https://wandb.ai/yueqiu/Square%20Classification/runs/2xzef7u0</a><br/>\n",
       "                Run data is saved locally in <code>/Users/hp/GitHub/OA/Squares Classification/wandb/run-20210815_211814-2xzef7u0</code><br/><br/>\n",
       "            "
      ],
      "text/plain": [
       "<IPython.core.display.HTML object>"
      ]
     },
     "metadata": {},
     "output_type": "display_data"
    },
    {
     "data": {
      "text/html": [
       "<h1>Run(2xzef7u0)</h1><iframe src=\"https://wandb.ai/yueqiu/Square%20Classification/runs/2xzef7u0\" style=\"border:none;width:100%;height:400px\"></iframe>"
      ],
      "text/plain": [
       "<wandb.sdk.wandb_run.Run at 0x7fd1b53cefd0>"
      ]
     },
     "execution_count": 1,
     "metadata": {},
     "output_type": "execute_result"
    }
   ],
   "source": [
    "import tensorflow as tf\n",
    "print(tf.__version__)\n",
    "tf_seed = 123\n",
    "tf.random.set_seed(tf_seed)\n",
    "\n",
    "import matplotlib.pyplot as plt\n",
    "import cv2\n",
    "import glob\n",
    "import os\n",
    "\n",
    "import wandb\n",
    "wandb.init(project=\"Square Classification\")\n"
   ]
  },
  {
   "cell_type": "markdown",
   "id": "8ec3e29f",
   "metadata": {},
   "source": [
    "## Data Exploration and Visualization"
   ]
  },
  {
   "cell_type": "markdown",
   "id": "21cbcd74",
   "metadata": {},
   "source": [
    "### Dataset first impression"
   ]
  },
  {
   "cell_type": "code",
   "execution_count": 2,
   "id": "f26ae7f8",
   "metadata": {},
   "outputs": [
    {
     "name": "stdout",
     "output_type": "stream",
     "text": [
      "\u001b[01;34m./squares\u001b[00m\n",
      "├── \u001b[01;34mtrain\u001b[00m\n",
      "│   ├── \u001b[01;34ma\u001b[00m\n",
      "│   ├── \u001b[01;34mb\u001b[00m\n",
      "│   └── \u001b[01;34mc\u001b[00m\n",
      "└── \u001b[01;34mval\u001b[00m\n",
      "    ├── \u001b[01;34ma\u001b[00m\n",
      "    ├── \u001b[01;34mb\u001b[00m\n",
      "    └── \u001b[01;34mc\u001b[00m\n",
      "\n",
      "8 directories\n"
     ]
    }
   ],
   "source": [
    "!tree -d ./squares"
   ]
  },
  {
   "cell_type": "code",
   "execution_count": 3,
   "id": "4a6de7f2",
   "metadata": {},
   "outputs": [
    {
     "name": "stdout",
     "output_type": "stream",
     "text": [
      "0.jpg\n",
      "1.bmp\n",
      "10.jpg\n",
      "100.png\n",
      "101.bmp\n",
      "102.jpg\n",
      "103.jpg\n",
      "104.png\n",
      "105.png\n",
      "106.jpg\n"
     ]
    }
   ],
   "source": [
    "!ls -U ./squares/train/a/ | head -10"
   ]
  },
  {
   "cell_type": "code",
   "execution_count": 4,
   "id": "5415aa4f",
   "metadata": {},
   "outputs": [],
   "source": [
    "train_data_dir = \"./squares/train/\"\n",
    "test_data_dir = \"./squares/val/\""
   ]
  },
  {
   "cell_type": "markdown",
   "id": "717c419d",
   "metadata": {},
   "source": [
    "### Data extraction and processing"
   ]
  },
  {
   "cell_type": "code",
   "execution_count": 5,
   "id": "1be4b18f",
   "metadata": {},
   "outputs": [],
   "source": [
    "from collections import OrderedDict\n",
    "class DataObj:\n",
    "    \"\"\"\n",
    "    DataObj is an object that\n",
    "    . Read and process data \n",
    "    . Provide statistics and visualization of the dataset. \n",
    "    \"\"\"\n",
    "    def __init__(self, data_dir, name, num_classes = 3):\n",
    "        \"\"\"\n",
    "        Read and process data.\n",
    "\n",
    "            Parameters:\n",
    "                data_dir (string): Data directory path\n",
    "                name (string): Could be \"Train\" or \"Test\". \n",
    "                num_classes(int): number of classes\n",
    "        \"\"\"\n",
    "        \n",
    "        self.data_dir = data_dir\n",
    "        self.name = name\n",
    "        self.num_classes = num_classes\n",
    "        self.cls2files = {}\n",
    "        \n",
    "        class_dirs = glob.glob(os.path.join(data_dir, \"*\"))\n",
    "        assert len(class_dirs) == num_classes\n",
    "        for cd in class_dirs:\n",
    "            all_files = [os.path.join(cd, f) for f in os.listdir(cd) if os.path.isfile(os.path.join(cd, f))]\n",
    "            label = cd.split(\"/\")[-1]\n",
    "            self.cls2files[label] = list(filter(lambda x: \n",
    "                                               os.path.splitext(x)[1] == \".png\" \n",
    "                                               or os.path.splitext(x)[1] == \".bmp\" \n",
    "                                               or os.path.splitext(x)[1] == \".jpg\"\n",
    "                                              , all_files))\n",
    "        self.cls2files = OrderedDict(sorted(self.cls2files.items()))\n",
    "        assert len(self.cls2files) == num_classes\n",
    "        assert len(self.cls2files[\"a\"]) >= 200\n",
    "        \n",
    "    def DisplayStatistics(self,):\n",
    "        \"\"\"\n",
    "        Display statistics of the dataset\n",
    "        \"\"\"\n",
    "        \n",
    "        fileSizes = []\n",
    "        is_square = []\n",
    "        has_three_channel = []\n",
    "        img_sizes = []\n",
    "        \n",
    "        data = self.cls2files\n",
    "        for key, val in data.items():\n",
    "            print(f\"class {key}: {len(val)} images\")\n",
    "            for path in val:\n",
    "                img = cv2.imread(path)\n",
    "                is_square.append(img.shape[0] == img.shape[1])\n",
    "                has_three_channel.append(img.shape[2] == 3)\n",
    "                img_sizes.append(img.shape[0])\n",
    "        print(f\"All images is square: {all(is_square)}\")\n",
    "        print(f\"All images have three channels: {all(has_three_channel)}\")\n",
    "        plt.hist(img_sizes)\n",
    "        plt.title(\"Image Size distribution\")\n",
    "        plt.show()\n",
    "        \n",
    "    def Visualize(self, n_samples_per_class = 3):\n",
    "        \"\"\"\n",
    "        Visualize samples in the dataset in a x sample per class fashion.\n",
    "\n",
    "            Parameters:\n",
    "                n_samples_per_class (int): number of samples per class\n",
    "        \"\"\"\n",
    "\n",
    "        plt.figure(figsize=(15, 15))\n",
    "        data = self.cls2files\n",
    "        for i, (label, files) in zip(range(self.num_classes), data.items()):\n",
    "            for j in range(n_samples_per_class):\n",
    "                ax = plt.subplot(n_samples_per_class, self.num_classes, 3 * j + i + 1)\n",
    "                image = cv2.imread(files[j])\n",
    "                plt.imshow(image)\n",
    "                plt.title(f\"{self.name}: class = {label}, size = {image.shape}\" )\n",
    "                plt.axis(\"off\")\n",
    "        plt.show()"
   ]
  },
  {
   "cell_type": "markdown",
   "id": "1ba753d2",
   "metadata": {},
   "source": [
    "### Training data statistics and visualization"
   ]
  },
  {
   "cell_type": "code",
   "execution_count": 6,
   "id": "5a013bcf",
   "metadata": {},
   "outputs": [
    {
     "name": "stdout",
     "output_type": "stream",
     "text": [
      "class a: 500 images\n",
      "class b: 500 images\n",
      "class c: 500 images\n",
      "All images is square: True\n",
      "All images have three channels: True\n"
     ]
    },
    {
     "data": {
      "image/png": "[encoded data removed]",
      "text/plain": [
       "<Figure size 432x288 with 1 Axes>"
      ]
     },
     "metadata": {
      "needs_background": "light"
     },
     "output_type": "display_data"
    },
    {
     "data": {
      "image/png": "[encoded data removed]",
      "text/plain": [
       "<Figure size 1080x1080 with 9 Axes>"
      ]
     },
     "metadata": {
      "needs_background": "light"
     },
     "output_type": "display_data"
    }
   ],
   "source": [
    "data = DataObj(train_data_dir, name = \"Train\")\n",
    "data.DisplayStatistics()\n",
    "data.Visualize()"
   ]
  },
  {
   "cell_type": "markdown",
   "id": "e7578a76",
   "metadata": {},
   "source": [
    "### Insights from data statistics and data visualization"
   ]
  },
  {
   "cell_type": "markdown",
   "id": "82daa49a",
   "metadata": {},
   "source": [
    "- Verifies the description of the dataset: each class has 500 samples\n",
    "- All images are square images\n",
    "- All images have three channels\n",
    "- Images have difference sizes: Approximately a uniform distribution ranging from 325 - 624\n",
    "- From observations from looking at more samples, the difference between classes lies in the color saturation of the square."
   ]
  },
  {
   "cell_type": "markdown",
   "id": "fb526cc7",
   "metadata": {},
   "source": [
    "## Hyperparameters"
   ]
  },
  {
   "cell_type": "code",
   "execution_count": 7,
   "id": "07974bf6",
   "metadata": {},
   "outputs": [],
   "source": [
    "cfg = wandb.config\n",
    "cfg.img_height, cfg.img_width = 64, 64\n",
    "cfg.batch_size = 32"
   ]
  },
  {
   "cell_type": "markdown",
   "id": "f46796c1",
   "metadata": {},
   "source": [
    "## Data Preprocessing"
   ]
  },
  {
   "cell_type": "code",
   "execution_count": 8,
   "id": "abf52e1d",
   "metadata": {},
   "outputs": [
    {
     "name": "stdout",
     "output_type": "stream",
     "text": [
      "Found 1500 files belonging to 3 classes.\n",
      "Using 1050 files for training.\n",
      "Found 1500 files belonging to 3 classes.\n",
      "Using 450 files for validation.\n"
     ]
    }
   ],
   "source": [
    "train_ds = tf.keras.preprocessing.image_dataset_from_directory(\n",
    "  train_data_dir,\n",
    "  validation_split=0.3,\n",
    "  subset=\"training\",\n",
    "  image_size=(cfg.img_height, cfg.img_width),\n",
    "  seed = tf_seed,\n",
    "  batch_size = cfg.batch_size,\n",
    ")\n",
    "\n",
    "val_ds = tf.keras.preprocessing.image_dataset_from_directory(\n",
    "  train_data_dir,\n",
    "  validation_split=0.3,\n",
    "  subset=\"validation\",\n",
    "  image_size=(cfg.img_height, cfg.img_width),\n",
    "  seed = tf_seed,\n",
    "  batch_size = cfg.batch_size,\n",
    ")\n",
    "\n",
    "class_names = train_ds.class_names\n",
    "AUTOTUNE = tf.data.AUTOTUNE\n",
    "normalization_layer = tf.keras.layers.experimental.preprocessing.Rescaling(1./255)\n",
    "train_ds = train_ds.map(lambda x, y: (normalization_layer(x), y)).cache().prefetch(buffer_size=AUTOTUNE)\n",
    "val_ds = val_ds.map(lambda x, y: (normalization_layer(x), y)).cache().prefetch(buffer_size=AUTOTUNE)\n",
    "\n",
    "\n"
   ]
  },
  {
   "cell_type": "code",
   "execution_count": 9,
   "id": "e89d89d5",
   "metadata": {},
   "outputs": [
    {
     "name": "stdout",
     "output_type": "stream",
     "text": [
      "train_ds\n"
     ]
    },
    {
     "data": {
      "image/png": "[encoded data removed]",
      "text/plain": [
       "<Figure size 288x288 with 4 Axes>"
      ]
     },
     "metadata": {
      "needs_background": "light"
     },
     "output_type": "display_data"
    },
    {
     "name": "stdout",
     "output_type": "stream",
     "text": [
      "val_ds\n"
     ]
    },
    {
     "data": {
      "image/png": "[encoded data removed]",
      "text/plain": [
       "<Figure size 288x288 with 4 Axes>"
      ]
     },
     "metadata": {
      "needs_background": "light"
     },
     "output_type": "display_data"
    }
   ],
   "source": [
    "print(\"train_ds\")\n",
    "plt.figure(figsize=(4, 4))\n",
    "for images, labels in train_ds.take(1):\n",
    "    for i in range(4):\n",
    "        ax = plt.subplot(2, 2, i + 1)\n",
    "        plt.imshow(images[i].numpy())\n",
    "        plt.title(class_names[labels[i]])\n",
    "        plt.axis(\"off\")\n",
    "plt.show()\n",
    "print(\"val_ds\")\n",
    "plt.figure(figsize=(4, 4))\n",
    "for images, labels in val_ds.take(1):\n",
    "    for i in range(4):\n",
    "        ax = plt.subplot(2, 2, i + 1)\n",
    "        plt.imshow(images[i].numpy())\n",
    "        plt.title(class_names[labels[i]])\n",
    "        plt.axis(\"off\")\n",
    "plt.show()"
   ]
  },
  {
   "cell_type": "markdown",
   "id": "33e6c46d",
   "metadata": {},
   "source": [
    "## Model and Optimizer"
   ]
  },
  {
   "cell_type": "code",
   "execution_count": 10,
   "id": "965aa738",
   "metadata": {},
   "outputs": [],
   "source": [
    "num_classes = 3\n",
    "\n",
    "model = tf.keras.Sequential([\n",
    "  tf.keras.layers.Conv2D(32, 3, activation='relu'),\n",
    "  tf.keras.layers.MaxPooling2D(),\n",
    "  tf.keras.layers.Conv2D(32, 3, activation='relu'),\n",
    "  tf.keras.layers.MaxPooling2D(),\n",
    "  tf.keras.layers.Conv2D(32, 3, activation='relu'),\n",
    "  tf.keras.layers.MaxPooling2D(),\n",
    "  tf.keras.layers.Flatten(),\n",
    "  tf.keras.layers.Dense(128, activation='relu'),\n",
    "  tf.keras.layers.Dense(num_classes)\n",
    "])"
   ]
  },
  {
   "cell_type": "code",
   "execution_count": 11,
   "id": "8b21cc89",
   "metadata": {},
   "outputs": [],
   "source": [
    "model.compile(\n",
    "  optimizer='adam',\n",
    "  loss=tf.losses.SparseCategoricalCrossentropy(from_logits=True),\n",
    "  metrics=['accuracy'])"
   ]
  },
  {
   "cell_type": "markdown",
   "id": "b6e8b04b",
   "metadata": {},
   "source": [
    "## Training"
   ]
  },
  {
   "cell_type": "code",
   "execution_count": 12,
   "id": "c6909b61",
   "metadata": {},
   "outputs": [
    {
     "name": "stdout",
     "output_type": "stream",
     "text": [
      "Epoch 1/10\n",
      "33/33 [==============================] - 3s 62ms/step - loss: 1.0148 - accuracy: 0.4762 - val_loss: 0.7556 - val_accuracy: 0.6400\n",
      "Epoch 2/10\n",
      "33/33 [==============================] - 2s 54ms/step - loss: 0.5370 - accuracy: 0.7752 - val_loss: 0.4728 - val_accuracy: 0.8089\n",
      "Epoch 3/10\n",
      "33/33 [==============================] - 2s 56ms/step - loss: 0.3008 - accuracy: 0.8819 - val_loss: 0.4368 - val_accuracy: 0.8222\n",
      "Epoch 4/10\n",
      "33/33 [==============================] - 2s 53ms/step - loss: 0.2462 - accuracy: 0.9095 - val_loss: 0.1273 - val_accuracy: 0.9578\n",
      "Epoch 5/10\n",
      "33/33 [==============================] - 2s 56ms/step - loss: 0.1306 - accuracy: 0.9533 - val_loss: 0.1685 - val_accuracy: 0.9289\n",
      "Epoch 6/10\n",
      "33/33 [==============================] - 2s 53ms/step - loss: 0.1291 - accuracy: 0.9581 - val_loss: 0.0800 - val_accuracy: 0.9711\n",
      "Epoch 7/10\n",
      "33/33 [==============================] - 2s 53ms/step - loss: 0.0933 - accuracy: 0.9686 - val_loss: 0.0740 - val_accuracy: 0.9689\n",
      "Epoch 8/10\n",
      "33/33 [==============================] - 2s 55ms/step - loss: 0.0917 - accuracy: 0.9648 - val_loss: 0.0638 - val_accuracy: 0.9711\n",
      "Epoch 9/10\n",
      "33/33 [==============================] - 2s 53ms/step - loss: 0.0802 - accuracy: 0.9743 - val_loss: 0.0527 - val_accuracy: 0.9822\n",
      "Epoch 10/10\n",
      "33/33 [==============================] - 2s 56ms/step - loss: 0.0742 - accuracy: 0.9743 - val_loss: 0.0486 - val_accuracy: 0.9822\n"
     ]
    },
    {
     "data": {
      "text/plain": [
       "<tensorflow.python.keras.callbacks.History at 0x7fd1b6634d90>"
      ]
     },
     "execution_count": 12,
     "metadata": {},
     "output_type": "execute_result"
    }
   ],
   "source": [
    "model.fit(\n",
    "  train_ds,\n",
    "  validation_data=val_ds,\n",
    "  epochs=10\n",
    ")"
   ]
  },
  {
   "cell_type": "code",
   "execution_count": 13,
   "id": "607e2b4c",
   "metadata": {},
   "outputs": [],
   "source": [
    "# wandb.log({\"train loss\": 0.0958, \"val accuracy\": 0.9578 , 'val loss': 0.0939})\n"
   ]
  },
  {
   "cell_type": "markdown",
   "id": "17402ce4",
   "metadata": {},
   "source": [
    "## Evaluation"
   ]
  },
  {
   "cell_type": "code",
   "execution_count": 14,
   "id": "b8868cd0",
   "metadata": {},
   "outputs": [
    {
     "name": "stdout",
     "output_type": "stream",
     "text": [
      "Found 1500 files belonging to 3 classes.\n"
     ]
    }
   ],
   "source": [
    "test_ds = tf.keras.preprocessing.image_dataset_from_directory(\n",
    "  test_data_dir,\n",
    "  image_size=(cfg.img_height, cfg.img_width),\n",
    "  batch_size = cfg.batch_size,\n",
    ").map(lambda x, y: (normalization_layer(x), y))"
   ]
  },
  {
   "cell_type": "code",
   "execution_count": 15,
   "id": "2de26e57",
   "metadata": {},
   "outputs": [
    {
     "name": "stdout",
     "output_type": "stream",
     "text": [
      "47/47 [==============================] - 1s 15ms/step - loss: 0.0817 - accuracy: 0.9747\n"
     ]
    }
   ],
   "source": [
    "results = model.evaluate(test_ds, batch_size=128)"
   ]
  },
  {
   "cell_type": "code",
   "execution_count": 16,
   "id": "af996dba",
   "metadata": {},
   "outputs": [
    {
     "data": {
      "image/png": "[encoded data removed]",
      "text/plain": [
       "<Figure size 720x720 with 9 Axes>"
      ]
     },
     "metadata": {
      "needs_background": "light"
     },
     "output_type": "display_data"
    }
   ],
   "source": [
    "plt.figure(figsize = (10, 10))\n",
    "\n",
    "for (img, gt) in test_ds.take(1):\n",
    "    output = model.predict(img)\n",
    "    confidence = tf.nn.softmax(output, axis = 1)\n",
    "    preds = tf.argmax(confidence, axis = 1)\n",
    "    for i in range(9):\n",
    "        plt.subplot(3, 3, i + 1)\n",
    "        plt.imshow(img[i])\n",
    "        plt.title(f\"gt: {class_names[gt[i]]}, prediction: {class_names[preds[i]]}\")\n",
    "        \n"
   ]
  },
  {
   "cell_type": "markdown",
   "id": "5dfd8b7b",
   "metadata": {},
   "source": [
    "### Error Analysis"
   ]
  },
  {
   "cell_type": "code",
   "execution_count": 17,
   "id": "4585e133",
   "metadata": {},
   "outputs": [
    {
     "data": {
      "image/png": "[encoded data removed]",
      "text/plain": [
       "<Figure size 720x720 with 9 Axes>"
      ]
     },
     "metadata": {
      "needs_background": "light"
     },
     "output_type": "display_data"
    }
   ],
   "source": [
    "plt.figure(figsize = (10, 10))\n",
    "plot_i = 1\n",
    "it = iter(test_ds)\n",
    "for (img, gt) in it:\n",
    "    output = model.predict(img)\n",
    "    confidence = tf.nn.softmax(output, axis = 1)\n",
    "    preds = tf.argmax(confidence, axis = 1).numpy()\n",
    "    gt = gt.numpy()\n",
    "    correct = (preds == gt)\n",
    "    for i, c in enumerate(correct):\n",
    "        if not c:\n",
    "            plt.subplot(3, 3, plot_i)\n",
    "            plt.imshow(img[i])\n",
    "            plt.title(f\"gt: {class_names[gt[i]]}, prediction: {class_names[preds[i]]}\")\n",
    "            plot_i += 1\n",
    "        if plot_i >= 10:\n",
    "            break\n",
    "    if plot_i >= 10:\n",
    "        break\n",
    "plt.show()\n",
    "        \n"
   ]
  },
  {
   "cell_type": "markdown",
   "id": "43704a8d",
   "metadata": {},
   "source": [
    "## Future Work"
   ]
  },
  {
   "cell_type": "markdown",
   "id": "0292c504",
   "metadata": {},
   "source": [
    "### Product"
   ]
  },
  {
   "cell_type": "markdown",
   "id": "b167eb42",
   "metadata": {},
   "source": [
    "- Understand the requirements and the restraints better, e.g. inference latency, throughput, class importance, etc."
   ]
  },
  {
   "cell_type": "markdown",
   "id": "d65b0c6a",
   "metadata": {},
   "source": [
    "### Data Pipelines"
   ]
  },
  {
   "cell_type": "markdown",
   "id": "4aed437d",
   "metadata": {},
   "source": [
    "- Decouple functionality of each step\n",
    "- Unit tests, integration tests\n",
    "- Data versioning\n"
   ]
  },
  {
   "cell_type": "markdown",
   "id": "c441b280",
   "metadata": {},
   "source": [
    "### Model and training"
   ]
  },
  {
   "cell_type": "markdown",
   "id": "3b4ff520",
   "metadata": {},
   "source": [
    "- Hyperparameters search with keras tuner\n",
    "- Further Improve model accuracy through building better architecture.\n",
    "- Reduce overfitting through regularization, dropout, etc.\n",
    "- Reduce inference latency: experiments with more efficient network architectures like mobilenet and squeezenet.\n",
    "- Custom training loop and evaluation metrics to gain more control. (e.g. Add recall and precision for each class to the metrics)\n",
    "- Abalation study\n"
   ]
  },
  {
   "cell_type": "markdown",
   "id": "9a076a43",
   "metadata": {},
   "source": [
    "## Reference"
   ]
  },
  {
   "cell_type": "markdown",
   "id": "e88ea1d9",
   "metadata": {},
   "source": [
    "- https://www.tensorflow.org/tutorials/load_data/images\n",
    "- https://www.tensorflow.org/api_docs/python/tf/keras/Model#evaluate\n",
    "- https://www.tensorflow.org/guide/keras/train_and_evaluate\n",
    "- https://www.tensorflow.org/guide/keras/customizing_what_happens_in_fit"
   ]
  },
  {
   "cell_type": "code",
   "execution_count": null,
   "id": "3f36b7bd",
   "metadata": {},
   "outputs": [],
   "source": []
  }
 ],
 "metadata": {
  "kernelspec": {
   "display_name": "Python 3",
   "language": "python",
   "name": "python3"
  },
  "language_info": {
   "codemirror_mode": {
    "name": "ipython",
    "version": 3
   },
   "file_extension": ".py",
   "mimetype": "text/x-python",
   "name": "python",
   "nbconvert_exporter": "python",
   "pygments_lexer": "ipython3",
   "version": "3.7.10"
  }
 },
 "nbformat": 4,
 "nbformat_minor": 5
}
